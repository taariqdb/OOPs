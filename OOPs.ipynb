{
  "nbformat": 4,
  "nbformat_minor": 0,
  "metadata": {
    "colab": {
      "name": "OOPs.ipynb",
      "provenance": []
    },
    "kernelspec": {
      "name": "python3",
      "display_name": "Python 3"
    },
    "language_info": {
      "name": "python"
    }
  },
  "cells": [
    {
      "cell_type": "code",
      "execution_count": null,
      "metadata": {
        "colab": {
          "base_uri": "https://localhost:8080/"
        },
        "id": "ln0zAPXSWZB2",
        "outputId": "be489551-64dc-4153-e93f-ac61b98d1af2"
      },
      "outputs": [
        {
          "output_type": "stream",
          "name": "stdout",
          "text": [
            "Mounted at /content/MyDrive/\n"
          ]
        }
      ],
      "source": [
        "from google.colab import drive\n",
        "drive.mount(\"/content/MyDrive/\")"
      ]
    },
    {
      "cell_type": "code",
      "source": [
        "class Items:\n",
        "  def calculate_total_quantity(self, x, y):\n",
        "    return x * y\n",
        "\n",
        "items1 = Items()\n",
        "items1.name = \"Phone\"\n",
        "items1.price = 10000\n",
        "items1.quantity = 5\n",
        "print(items1.calculate_total_quantity(items1.price ,items1.quantity))"
      ],
      "metadata": {
        "colab": {
          "base_uri": "https://localhost:8080/"
        },
        "id": "h1pQNhIYXGkR",
        "outputId": "637d4452-68b9-4be5-e678-0c0997bc6aa2"
      },
      "execution_count": null,
      "outputs": [
        {
          "output_type": "stream",
          "name": "stdout",
          "text": [
            "50000\n"
          ]
        }
      ]
    },
    {
      "cell_type": "code",
      "source": [
        "items2 = Items()\n",
        "items2.name = \"Laptop\"\n",
        "items2.price = 3000000\n",
        "items2.quantity = 3\n",
        "print(items2.calculate_total_quantity(items2.price,items2.quantity))"
      ],
      "metadata": {
        "colab": {
          "base_uri": "https://localhost:8080/"
        },
        "id": "f0aEieKdlRFf",
        "outputId": "b851bcef-886a-4777-dea1-a76e6d2dcc8d"
      },
      "execution_count": null,
      "outputs": [
        {
          "output_type": "stream",
          "name": "stdout",
          "text": [
            "9000000\n"
          ]
        }
      ]
    },
    {
      "cell_type": "code",
      "source": [
        "class Product:\n",
        "  def __init__(self,name,price,nos):\n",
        "    self.name = name\n",
        "    self.price = price\n",
        "    self.nos = nos\n",
        "  def calculate_total_nos(self, a,b):\n",
        "    return a * b\n",
        "  \n",
        "product1 = Product(\"mobile\", 15000, 2)\n",
        "product2 = Product(\"PC\", 100000, 3)\n",
        "\n",
        "print(product1.name ,\"total amount of cost is :\",product1.calculate_total_nos(product1.price,product1.nos))\n",
        "print(product2.name ,\"total amount of cost is :\",product2.calculate_total_nos(product2.price,product2.nos))"
      ],
      "metadata": {
        "colab": {
          "base_uri": "https://localhost:8080/"
        },
        "id": "3IMquf26lw2l",
        "outputId": "2b201973-2816-4b5f-b216-6e76686dcd02"
      },
      "execution_count": null,
      "outputs": [
        {
          "output_type": "stream",
          "name": "stdout",
          "text": [
            "mobile total amount of cost is : 30000\n",
            "PC total amount of cost is : 300000\n"
          ]
        }
      ]
    },
    {
      "cell_type": "code",
      "source": [
        "class Goods:\n",
        "  def __init__(self,brand,cost,amount):\n",
        "    #assertion for run validations\n",
        "    assert cost > 0, f'cost should be greater than zero and actuall cost is {cost}'\n",
        "    assert amount > 0, f'amount should be greater than zero and actuall amount is {amount}'\n",
        "    self.brand = brand\n",
        "    self.cost = cost\n",
        "    self.amount = amount\n",
        "  def calculate_total_amount(self):\n",
        "    return self.cost*self.amount\n",
        "  \n",
        "goods1 = Goods(\"Lyca\", 15000000, 2)\n",
        "goods2 = Goods(\"WB\", 10000000000, 3)\n",
        "\n",
        "print(goods1.brand ,\"total amount of cost is :\",goods1.calculate_total_amount())\n",
        "print(goods2.brand ,\"total amount of cost is :\",goods2.calculate_total_amount())"
      ],
      "metadata": {
        "colab": {
          "base_uri": "https://localhost:8080/"
        },
        "id": "-H3itfl4pQv3",
        "outputId": "727e8812-ef80-4789-b133-a7ebac125feb"
      },
      "execution_count": null,
      "outputs": [
        {
          "output_type": "stream",
          "name": "stdout",
          "text": [
            "Lyca total amount of cost is : 30000000\n",
            "WB total amount of cost is : 30000000000\n"
          ]
        }
      ]
    },
    {
      "cell_type": "code",
      "source": [
        "goods3 = Goods(\"DupakorruCompany&CO\", 0, 0)\n",
        "goods4 = Goods(\"DabbaCompa\", 0, 0)\n",
        "\n",
        "print(goods1.brand ,\"total amount of cost is :\",goods1.calculate_total_amount()) # this error is happened because of assert\n",
        "print(goods2.brand ,\"total amount of cost is :\",goods2.calculate_total_amount())"
      ],
      "metadata": {
        "colab": {
          "base_uri": "https://localhost:8080/",
          "height": 371
        },
        "id": "EFb_2VFXxhkw",
        "outputId": "ff7f1b63-8d33-4cb1-8d3d-41d40e35be78"
      },
      "execution_count": null,
      "outputs": [
        {
          "output_type": "error",
          "ename": "AssertionError",
          "evalue": "ignored",
          "traceback": [
            "\u001b[0;31m---------------------------------------------------------------------------\u001b[0m",
            "\u001b[0;31mAssertionError\u001b[0m                            Traceback (most recent call last)",
            "\u001b[0;32m<ipython-input-32-392c57dd7be0>\u001b[0m in \u001b[0;36m<module>\u001b[0;34m()\u001b[0m\n\u001b[0;32m----> 1\u001b[0;31m \u001b[0mgoods3\u001b[0m \u001b[0;34m=\u001b[0m \u001b[0mGoods\u001b[0m\u001b[0;34m(\u001b[0m\u001b[0;34m\"DupakorruCompany&CO\"\u001b[0m\u001b[0;34m,\u001b[0m \u001b[0;36m0\u001b[0m\u001b[0;34m,\u001b[0m \u001b[0;36m0\u001b[0m\u001b[0;34m)\u001b[0m\u001b[0;34m\u001b[0m\u001b[0;34m\u001b[0m\u001b[0m\n\u001b[0m\u001b[1;32m      2\u001b[0m \u001b[0mgoods4\u001b[0m \u001b[0;34m=\u001b[0m \u001b[0mGoods\u001b[0m\u001b[0;34m(\u001b[0m\u001b[0;34m\"DabbaCompa\"\u001b[0m\u001b[0;34m,\u001b[0m \u001b[0;36m0\u001b[0m\u001b[0;34m,\u001b[0m \u001b[0;36m0\u001b[0m\u001b[0;34m)\u001b[0m\u001b[0;34m\u001b[0m\u001b[0;34m\u001b[0m\u001b[0m\n\u001b[1;32m      3\u001b[0m \u001b[0;34m\u001b[0m\u001b[0m\n\u001b[1;32m      4\u001b[0m \u001b[0mprint\u001b[0m\u001b[0;34m(\u001b[0m\u001b[0mgoods1\u001b[0m\u001b[0;34m.\u001b[0m\u001b[0mbrand\u001b[0m \u001b[0;34m,\u001b[0m\u001b[0;34m\"total amount of cost is :\"\u001b[0m\u001b[0;34m,\u001b[0m\u001b[0mgoods1\u001b[0m\u001b[0;34m.\u001b[0m\u001b[0mcalculate_total_amount\u001b[0m\u001b[0;34m(\u001b[0m\u001b[0;34m)\u001b[0m\u001b[0;34m)\u001b[0m \u001b[0;31m# this error because assert\u001b[0m\u001b[0;34m\u001b[0m\u001b[0;34m\u001b[0m\u001b[0m\n\u001b[1;32m      5\u001b[0m \u001b[0mprint\u001b[0m\u001b[0;34m(\u001b[0m\u001b[0mgoods2\u001b[0m\u001b[0;34m.\u001b[0m\u001b[0mbrand\u001b[0m \u001b[0;34m,\u001b[0m\u001b[0;34m\"total amount of cost is :\"\u001b[0m\u001b[0;34m,\u001b[0m\u001b[0mgoods2\u001b[0m\u001b[0;34m.\u001b[0m\u001b[0mcalculate_total_amount\u001b[0m\u001b[0;34m(\u001b[0m\u001b[0;34m)\u001b[0m\u001b[0;34m)\u001b[0m\u001b[0;34m\u001b[0m\u001b[0;34m\u001b[0m\u001b[0m\n",
            "\u001b[0;32m<ipython-input-31-86b7df1ddb6f>\u001b[0m in \u001b[0;36m__init__\u001b[0;34m(self, brand, cost, amount)\u001b[0m\n\u001b[1;32m      2\u001b[0m   \u001b[0;32mdef\u001b[0m \u001b[0m__init__\u001b[0m\u001b[0;34m(\u001b[0m\u001b[0mself\u001b[0m\u001b[0;34m,\u001b[0m\u001b[0mbrand\u001b[0m\u001b[0;34m,\u001b[0m\u001b[0mcost\u001b[0m\u001b[0;34m,\u001b[0m\u001b[0mamount\u001b[0m\u001b[0;34m)\u001b[0m\u001b[0;34m:\u001b[0m\u001b[0;34m\u001b[0m\u001b[0;34m\u001b[0m\u001b[0m\n\u001b[1;32m      3\u001b[0m     \u001b[0;31m#assertion for run validations\u001b[0m\u001b[0;34m\u001b[0m\u001b[0;34m\u001b[0m\u001b[0;34m\u001b[0m\u001b[0m\n\u001b[0;32m----> 4\u001b[0;31m     \u001b[0;32massert\u001b[0m \u001b[0mcost\u001b[0m \u001b[0;34m>\u001b[0m \u001b[0;36m0\u001b[0m\u001b[0;34m,\u001b[0m \u001b[0;34mf'cost should be greater than zero and actuall cost is {cost}'\u001b[0m\u001b[0;34m\u001b[0m\u001b[0;34m\u001b[0m\u001b[0m\n\u001b[0m\u001b[1;32m      5\u001b[0m     \u001b[0;32massert\u001b[0m \u001b[0mamount\u001b[0m \u001b[0;34m>\u001b[0m \u001b[0;36m0\u001b[0m\u001b[0;34m,\u001b[0m \u001b[0;34mf'amount should be greater than zero and actuall amount is {amount}'\u001b[0m\u001b[0;34m\u001b[0m\u001b[0;34m\u001b[0m\u001b[0m\n\u001b[1;32m      6\u001b[0m     \u001b[0mself\u001b[0m\u001b[0;34m.\u001b[0m\u001b[0mbrand\u001b[0m \u001b[0;34m=\u001b[0m \u001b[0mbrand\u001b[0m\u001b[0;34m\u001b[0m\u001b[0;34m\u001b[0m\u001b[0m\n",
            "\u001b[0;31mAssertionError\u001b[0m: cost should be greater than zero and actuall cost is 0"
          ]
        }
      ]
    },
    {
      "cell_type": "code",
      "source": [
        "class Car:\n",
        "  def __init__(self,Company: str, model: str, price: int, milleage: str):\n",
        "    self.Company = Company\n",
        "    self.model = model\n",
        "    self.price = price\n",
        "    self.milleage = milleage\n",
        "\n",
        "car1 = Car(\"BMW\", \"Some model who cares\", 1000000000,\"milleage enna vendalum irudha unnaku enna\")\n",
        "car2 = Car(\" edho oru car\",\"enna onion ku model\", 111111,\"millegae aaha 10000km uruttu uruttu unna nalla manasku needha jaipa\")\n",
        "print(\"The best company is :\", car1.Company)\n",
        "print(car1.Company,car1.milleage)\n",
        "print(car2.Company, car2.milleage)"
      ],
      "metadata": {
        "colab": {
          "base_uri": "https://localhost:8080/"
        },
        "id": "ykY_0hoRs_rt",
        "outputId": "321f0e48-431e-46c3-e0e5-069e7191ebbb"
      },
      "execution_count": null,
      "outputs": [
        {
          "output_type": "stream",
          "name": "stdout",
          "text": [
            "The best company is : BMW\n",
            "BMW milleage enna vendalum irudha unnaku enna\n",
            " edho oru car millegae aaha 10000km uruttu uruttu unna nalla manasku needha jaipa\n"
          ]
        }
      ]
    },
    {
      "cell_type": "code",
      "source": [
        "#Class Attributes\n",
        "class Car:\n",
        "  Pay_rate = 0.8  #this class attributes\n",
        "  def __init__(self,Company: str, model: str, price: int, milleage: str):\n",
        "    self.Company = Company\n",
        "    self.model = model\n",
        "    self.price = price\n",
        "    self.milleage = milleage\n",
        "\n",
        "car1 = Car(\"BMW\", \"Some model who cares\", 1000000000,\"milleage enna vendalum irudha unnaku enna\")\n",
        "car2 = Car(\" edho oru car\",\"enna onion ku model\", 111111,\"millegae aaha 10000km uruttu uruttu unna nalla manasku needha jaipa\")\n",
        "print(\"The best company is :\", car1.Company)\n",
        "print(car1.Company,car1.milleage)\n",
        "print(car2.Company, car2.milleage)\n",
        "print(Car.Pay_rate)\n",
        "print(car1.Pay_rate)# This the magimai of class attributes\n",
        "print(car2.Pay_rate)# This the magimai of class attributes\n",
        "print(Car.__dict__)#Display all the attributes of class\n",
        "print(car1.__dict__)#Display all the attributes of 1st instance\n",
        "print(car2.__dict__)#Display all the attributes of 2nd instance"
      ],
      "metadata": {
        "id": "JgNaynXMwfv8",
        "colab": {
          "base_uri": "https://localhost:8080/"
        },
        "outputId": "827f6ab1-b48c-4ffa-99ef-92a95536592d"
      },
      "execution_count": null,
      "outputs": [
        {
          "output_type": "stream",
          "name": "stdout",
          "text": [
            "The best company is : BMW\n",
            "BMW milleage enna vendalum irudha unnaku enna\n",
            " edho oru car millegae aaha 10000km uruttu uruttu unna nalla manasku needha jaipa\n",
            "0.8\n",
            "0.8\n",
            "0.8\n",
            "{'__module__': '__main__', 'Pay_rate': 0.8, '__init__': <function Car.__init__ at 0x7f5448120ef0>, '__dict__': <attribute '__dict__' of 'Car' objects>, '__weakref__': <attribute '__weakref__' of 'Car' objects>, '__doc__': None}\n",
            "{'Company': 'BMW', 'model': 'Some model who cares', 'price': 1000000000, 'milleage': 'milleage enna vendalum irudha unnaku enna'}\n",
            "{'Company': ' edho oru car', 'model': 'enna onion ku model', 'price': 111111, 'milleage': 'millegae aaha 10000km uruttu uruttu unna nalla manasku needha jaipa'}\n"
          ]
        }
      ]
    },
    {
      "cell_type": "code",
      "source": [
        "class Product:\n",
        "  pay_cost = 0.8 #discount for all \n",
        "  def __init__(self,name,price,nos):\n",
        "    self.name = name\n",
        "    self.price = price\n",
        "    self.nos = nos\n",
        "  def calculate_total_nos(self, a,b):\n",
        "    return a * b\n",
        "  def apply_discount(self):\n",
        "    self.price = self.price * Product.pay_cost\n",
        "  \n",
        "product1 = Product(\"mobile\", 15000, 2)\n",
        "product2 = Product(\"PC\", 100000, 3)\n",
        "\n",
        "product1.apply_discount()\n",
        "print(product1.price)\n",
        "print(product1.name ,\"total amount of cost is :\",product1.calculate_total_nos(product1.price,product1.nos))\n",
        "print(product2.name ,\"total amount of cost is :\",product2.calculate_total_nos(product2.price,product2.nos))"
      ],
      "metadata": {
        "colab": {
          "base_uri": "https://localhost:8080/"
        },
        "id": "Om8tN9ZOTrlq",
        "outputId": "d6ad039b-3cc1-468f-9c9f-28a81ed807d6"
      },
      "execution_count": null,
      "outputs": [
        {
          "output_type": "stream",
          "name": "stdout",
          "text": [
            "12000.0\n",
            "mobile total amount of cost is : 24000.0\n",
            "PC total amount of cost is : 300000\n"
          ]
        }
      ]
    },
    {
      "cell_type": "code",
      "source": [
        "class Product:\n",
        "  pay_cost = 0.8 #discount for all \n",
        "  def __init__(self,name,price,nos):\n",
        "    self.name = name\n",
        "    self.price = price\n",
        "    self.nos = nos\n",
        "  def calculate_total_nos(self, a,b):\n",
        "    return a * b\n",
        "  def apply_discount(self):\n",
        "    self.price = self.price * self.pay_cost\n",
        "  \n",
        "product1 = Product(\"mobile\", 15000, 2)\n",
        "product2 = Product(\"PC\", 100000, 3)\n",
        "\n",
        "product1.apply_discount()\n",
        "product2.pay_cost = 0.7\n",
        "product2.apply_discount()\n",
        "print(product1.price)\n",
        "print(product2.price)\n",
        "\n",
        "print(product1.name ,\"total amount of cost is :\",product1.calculate_total_nos(product1.price,product1.nos))\n",
        "print(product2.name ,\"total amount of cost is :\",product2.calculate_total_nos(product2.price,product2.nos))"
      ],
      "metadata": {
        "colab": {
          "base_uri": "https://localhost:8080/"
        },
        "id": "3Hrje0KVc6U5",
        "outputId": "85297ebb-44a4-415a-fbbc-5df87707060c"
      },
      "execution_count": null,
      "outputs": [
        {
          "output_type": "stream",
          "name": "stdout",
          "text": [
            "12000.0\n",
            "70000.0\n",
            "mobile total amount of cost is : 24000.0\n",
            "PC total amount of cost is : 210000.0\n"
          ]
        }
      ]
    },
    {
      "cell_type": "code",
      "source": [
        "class Books:\n",
        "  pay_books = 0.8 \n",
        "  all = []\n",
        "  def __init__(self,bookname: str,bookprice: int, book_nos: int):\n",
        "    self.bookname = bookname\n",
        "    self.bookprice = bookprice\n",
        "    self.book_nos = book_nos\n",
        "    Books.all.append(self)\n",
        "  def calculate_total_books(self, x,y):\n",
        "    return self.bookprice * self.book_nos\n",
        "  def book_discounts(self):\n",
        "    self.bookprice = self.bookprice * Books.pay_books\n",
        "  def __repr__(self):\n",
        "    return f\"Item('{self.bookname}','{self.bookprice}','{self.book_nos}')\"\n",
        "\n",
        "book1 = Books('2States', 750, 2)\n",
        "book2 = Books('Gone Girl', 1400, 6)\n",
        "book3 = Books('HarryPotter',1500, 100)\n",
        "book4 = Books('Da vinci code',1700, 15)\n",
        "book5 = Books('Twilight',2500, 12)\n",
        "print(Books.all)\n",
        "for story in Books.all:\n",
        "  print(story.bookname)"
      ],
      "metadata": {
        "colab": {
          "base_uri": "https://localhost:8080/"
        },
        "id": "QVEbohRNeDzE",
        "outputId": "88bb8062-45a4-42f3-adb2-e049720b613b"
      },
      "execution_count": null,
      "outputs": [
        {
          "output_type": "stream",
          "name": "stdout",
          "text": [
            "[Item('2States','750','2'), Item('Gone Girl','1400','6'), Item('HarryPotter','1500','100'), Item('Da vinci code','1700','15'), Item('Twilight','2500','12')]\n",
            "2States\n",
            "Gone Girl\n",
            "HarryPotter\n",
            "Da vinci code\n",
            "Twilight\n"
          ]
        }
      ]
    },
    {
      "cell_type": "code",
      "source": [
        "import pandas as pd"
      ],
      "metadata": {
        "id": "Q-VpI_V9voM3"
      },
      "execution_count": null,
      "outputs": []
    },
    {
      "cell_type": "code",
      "source": [
        "data = {'Bookname': ['2States','Gone Girl','HarryPotter','Da vinci code','Twilight'],\n",
        "        'Bookprice':[750,1400,1500,1700,2500],'Booknos':[2,6,100,15,12]}"
      ],
      "metadata": {
        "id": "LBmGHzN7-bX8"
      },
      "execution_count": null,
      "outputs": []
    },
    {
      "cell_type": "code",
      "source": [
        "data = pd.DataFrame(data)"
      ],
      "metadata": {
        "id": "Yhs-YL9K-2Qj"
      },
      "execution_count": null,
      "outputs": []
    },
    {
      "cell_type": "code",
      "source": [
        "data"
      ],
      "metadata": {
        "colab": {
          "base_uri": "https://localhost:8080/",
          "height": 206
        },
        "id": "Q05rdfhk_x2E",
        "outputId": "7b546d69-6d9b-47a0-d9a2-8a55a188697b"
      },
      "execution_count": null,
      "outputs": [
        {
          "output_type": "execute_result",
          "data": {
            "text/html": [
              "\n",
              "  <div id=\"df-e08c68b4-9e1f-4abd-80d4-e516aee77ca8\">\n",
              "    <div class=\"colab-df-container\">\n",
              "      <div>\n",
              "<style scoped>\n",
              "    .dataframe tbody tr th:only-of-type {\n",
              "        vertical-align: middle;\n",
              "    }\n",
              "\n",
              "    .dataframe tbody tr th {\n",
              "        vertical-align: top;\n",
              "    }\n",
              "\n",
              "    .dataframe thead th {\n",
              "        text-align: right;\n",
              "    }\n",
              "</style>\n",
              "<table border=\"1\" class=\"dataframe\">\n",
              "  <thead>\n",
              "    <tr style=\"text-align: right;\">\n",
              "      <th></th>\n",
              "      <th>Bookname</th>\n",
              "      <th>Bookprice</th>\n",
              "      <th>Booknos</th>\n",
              "    </tr>\n",
              "  </thead>\n",
              "  <tbody>\n",
              "    <tr>\n",
              "      <th>0</th>\n",
              "      <td>2States</td>\n",
              "      <td>750</td>\n",
              "      <td>2</td>\n",
              "    </tr>\n",
              "    <tr>\n",
              "      <th>1</th>\n",
              "      <td>Gone Girl</td>\n",
              "      <td>1400</td>\n",
              "      <td>6</td>\n",
              "    </tr>\n",
              "    <tr>\n",
              "      <th>2</th>\n",
              "      <td>HarryPotter</td>\n",
              "      <td>1500</td>\n",
              "      <td>100</td>\n",
              "    </tr>\n",
              "    <tr>\n",
              "      <th>3</th>\n",
              "      <td>Da vinci code</td>\n",
              "      <td>1700</td>\n",
              "      <td>15</td>\n",
              "    </tr>\n",
              "    <tr>\n",
              "      <th>4</th>\n",
              "      <td>Twilight</td>\n",
              "      <td>2500</td>\n",
              "      <td>12</td>\n",
              "    </tr>\n",
              "  </tbody>\n",
              "</table>\n",
              "</div>\n",
              "      <button class=\"colab-df-convert\" onclick=\"convertToInteractive('df-e08c68b4-9e1f-4abd-80d4-e516aee77ca8')\"\n",
              "              title=\"Convert this dataframe to an interactive table.\"\n",
              "              style=\"display:none;\">\n",
              "        \n",
              "  <svg xmlns=\"http://www.w3.org/2000/svg\" height=\"24px\"viewBox=\"0 0 24 24\"\n",
              "       width=\"24px\">\n",
              "    <path d=\"M0 0h24v24H0V0z\" fill=\"none\"/>\n",
              "    <path d=\"M18.56 5.44l.94 2.06.94-2.06 2.06-.94-2.06-.94-.94-2.06-.94 2.06-2.06.94zm-11 1L8.5 8.5l.94-2.06 2.06-.94-2.06-.94L8.5 2.5l-.94 2.06-2.06.94zm10 10l.94 2.06.94-2.06 2.06-.94-2.06-.94-.94-2.06-.94 2.06-2.06.94z\"/><path d=\"M17.41 7.96l-1.37-1.37c-.4-.4-.92-.59-1.43-.59-.52 0-1.04.2-1.43.59L10.3 9.45l-7.72 7.72c-.78.78-.78 2.05 0 2.83L4 21.41c.39.39.9.59 1.41.59.51 0 1.02-.2 1.41-.59l7.78-7.78 2.81-2.81c.8-.78.8-2.07 0-2.86zM5.41 20L4 18.59l7.72-7.72 1.47 1.35L5.41 20z\"/>\n",
              "  </svg>\n",
              "      </button>\n",
              "      \n",
              "  <style>\n",
              "    .colab-df-container {\n",
              "      display:flex;\n",
              "      flex-wrap:wrap;\n",
              "      gap: 12px;\n",
              "    }\n",
              "\n",
              "    .colab-df-convert {\n",
              "      background-color: #E8F0FE;\n",
              "      border: none;\n",
              "      border-radius: 50%;\n",
              "      cursor: pointer;\n",
              "      display: none;\n",
              "      fill: #1967D2;\n",
              "      height: 32px;\n",
              "      padding: 0 0 0 0;\n",
              "      width: 32px;\n",
              "    }\n",
              "\n",
              "    .colab-df-convert:hover {\n",
              "      background-color: #E2EBFA;\n",
              "      box-shadow: 0px 1px 2px rgba(60, 64, 67, 0.3), 0px 1px 3px 1px rgba(60, 64, 67, 0.15);\n",
              "      fill: #174EA6;\n",
              "    }\n",
              "\n",
              "    [theme=dark] .colab-df-convert {\n",
              "      background-color: #3B4455;\n",
              "      fill: #D2E3FC;\n",
              "    }\n",
              "\n",
              "    [theme=dark] .colab-df-convert:hover {\n",
              "      background-color: #434B5C;\n",
              "      box-shadow: 0px 1px 3px 1px rgba(0, 0, 0, 0.15);\n",
              "      filter: drop-shadow(0px 1px 2px rgba(0, 0, 0, 0.3));\n",
              "      fill: #FFFFFF;\n",
              "    }\n",
              "  </style>\n",
              "\n",
              "      <script>\n",
              "        const buttonEl =\n",
              "          document.querySelector('#df-e08c68b4-9e1f-4abd-80d4-e516aee77ca8 button.colab-df-convert');\n",
              "        buttonEl.style.display =\n",
              "          google.colab.kernel.accessAllowed ? 'block' : 'none';\n",
              "\n",
              "        async function convertToInteractive(key) {\n",
              "          const element = document.querySelector('#df-e08c68b4-9e1f-4abd-80d4-e516aee77ca8');\n",
              "          const dataTable =\n",
              "            await google.colab.kernel.invokeFunction('convertToInteractive',\n",
              "                                                     [key], {});\n",
              "          if (!dataTable) return;\n",
              "\n",
              "          const docLinkHtml = 'Like what you see? Visit the ' +\n",
              "            '<a target=\"_blank\" href=https://colab.research.google.com/notebooks/data_table.ipynb>data table notebook</a>'\n",
              "            + ' to learn more about interactive tables.';\n",
              "          element.innerHTML = '';\n",
              "          dataTable['output_type'] = 'display_data';\n",
              "          await google.colab.output.renderOutput(dataTable, element);\n",
              "          const docLink = document.createElement('div');\n",
              "          docLink.innerHTML = docLinkHtml;\n",
              "          element.appendChild(docLink);\n",
              "        }\n",
              "      </script>\n",
              "    </div>\n",
              "  </div>\n",
              "  "
            ],
            "text/plain": [
              "        Bookname  Bookprice  Booknos\n",
              "0        2States        750        2\n",
              "1      Gone Girl       1400        6\n",
              "2    HarryPotter       1500      100\n",
              "3  Da vinci code       1700       15\n",
              "4       Twilight       2500       12"
            ]
          },
          "metadata": {},
          "execution_count": 26
        }
      ]
    },
    {
      "cell_type": "code",
      "source": [
        "data.to_csv(r'\\content\\drive\\MyDrive\\books.csv', index=False) # to save the created csv file "
      ],
      "metadata": {
        "id": "uojZpz8eAzYF"
      },
      "execution_count": null,
      "outputs": []
    },
    {
      "cell_type": "code",
      "source": [
        ""
      ],
      "metadata": {
        "id": "nhMOHWATBLV6"
      },
      "execution_count": null,
      "outputs": []
    }
  ]
}